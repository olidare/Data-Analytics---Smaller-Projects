{
  "cells": [
    {
      "cell_type": "markdown",
      "metadata": {},
      "source": [
        "# Multiple Linear Regression Analysis",
        "## Sales and Marketing Data Analysis",
        "",
        "*Analysis of marketing channel effectiveness on sales performance*",
        "",
        "---"
      ]
    },
    {
      "cell_type": "markdown",
      "metadata": {},
      "source": [
        "## Project Overview",
        "",
        "In this analysis, I'll be exploring the relationship between different marketing channels and sales performance using multiple linear regression. The goal is to understand which marketing investments drive the most sales and build a predictive model.",
        "",
        "The dataset contains information about:",
        "- TV advertising spend levels",
        "- Radio advertising spend",
        "- Social Media advertising spend  ",
        "- Influencer marketing levels",
        "- Resulting Sales figures",
        "",
        "Let's dive into the analysis!"
      ]
    },
    {
      "cell_type": "markdown",
      "metadata": {},
      "source": [
        "## 1. Data Import and Setup",
        "",
        "First, I'll import the necessary libraries for my analysis."
      ]
    },
    {
      "cell_type": "code",
      "execution_count": null,
      "metadata": {},
      "outputs": [],
      "source": [
        "# Import required libraries",
        "import pandas as pd",
        "import numpy as np",
        "import matplotlib.pyplot as plt",
        "import seaborn as sns",
        "from sklearn.model_selection import train_test_split",
        "from sklearn.linear_model import LinearRegression",
        "from sklearn.metrics import r2_score, mean_squared_error",
        "import statsmodels.api as sm",
        "from statsmodels.stats.outliers_influence import variance_inflation_factor",
        "import warnings",
        "warnings.filterwarnings('ignore')",
        "",
        "# Set plotting style",
        "plt.style.use('default')",
        "sns.set_palette(\"husl\")"
      ]
    },
    {
      "cell_type": "markdown",
      "metadata": {},
      "source": [
        "### Loading the Dataset",
        "",
        "Now I'll load the sales and marketing data to begin my analysis."
      ]
    },
    {
      "cell_type": "code",
      "execution_count": null,
      "metadata": {},
      "outputs": [],
      "source": [
        "# Load the dataset",
        "data = pd.read_csv('sales_marketing_data.csv')",
        "",
        "# Display basic information about the dataset",
        "print(\"Dataset shape:\", data.shape)",
        "print(\"\\nFirst few rows:\")",
        "data.head()"
      ]
    },
    {
      "cell_type": "code",
      "execution_count": null,
      "metadata": {},
      "outputs": [],
      "source": [
        "# Get basic information about the data",
        "print(\"Dataset Info:\")",
        "print(data.info())",
        "print(\"\\nSummary Statistics:\")",
        "data.describe()"
      ]
    },
    {
      "cell_type": "markdown",
      "metadata": {},
      "source": [
        "## 2. Exploratory Data Analysis",
        "",
        "Let me explore the data to understand the relationships between variables and identify any patterns."
      ]
    },
    {
      "cell_type": "markdown",
      "metadata": {},
      "source": [
        "### Data Overview and Cleaning",
        "",
        "First, I'll check for any data quality issues."
      ]
    },
    {
      "cell_type": "code",
      "execution_count": null,
      "metadata": {},
      "outputs": [],
      "source": [
        "# Check for missing values",
        "print(\"Missing values per column:\")",
        "print(data.isnull().sum())",
        "",
        "# Check for duplicates",
        "print(f\"\\nNumber of duplicate rows: {data.duplicated().sum()}\")",
        "",
        "# Look at unique values for categorical variables",
        "print(\"\\nUnique values in TV column:\", data['TV'].unique())",
        "print(\"Unique values in Influencer column:\", data['Influencer'].unique())"
      ]
    },
    {
      "cell_type": "markdown",
      "metadata": {},
      "source": [
        "### Visualizing Relationships",
        "",
        "I'll create visualizations to understand how each marketing channel relates to sales."
      ]
    },
    {
      "cell_type": "code",
      "execution_count": null,
      "metadata": {},
      "outputs": [],
      "source": [
        "# Create a comprehensive pairplot to see relationships",
        "plt.figure(figsize=(12, 10))",
        "sns.pairplot(data, hue='TV', diag_kind='hist')",
        "plt.suptitle('Pairplot of Marketing Channels and Sales', y=1.02)",
        "plt.tight_layout()",
        "plt.show()"
      ]
    },
    {
      "cell_type": "code",
      "execution_count": null,
      "metadata": {},
      "outputs": [],
      "source": [
        "# Create correlation heatmap for numerical variables",
        "numerical_cols = ['Radio', 'Social Media', 'Sales']",
        "plt.figure(figsize=(8, 6))",
        "correlation_matrix = data[numerical_cols].corr()",
        "sns.heatmap(correlation_matrix, annot=True, cmap='coolwarm', center=0, ",
        "            square=True, linewidths=0.5)",
        "plt.title('Correlation Matrix: Marketing Channels vs Sales')",
        "plt.tight_layout()",
        "plt.show()"
      ]
    },
    {
      "cell_type": "markdown",
      "metadata": {},
      "source": [
        "### Analyzing Categorical Variables",
        "",
        "Let me examine how the categorical variables (TV and Influencer) affect sales."
      ]
    },
    {
      "cell_type": "code",
      "execution_count": null,
      "metadata": {},
      "outputs": [],
      "source": [
        "# Analyze sales by TV advertising level",
        "plt.figure(figsize=(12, 5))",
        "",
        "plt.subplot(1, 2, 1)",
        "tv_sales = data.groupby('TV')['Sales'].mean().sort_values(ascending=False)",
        "tv_sales.plot(kind='bar', color='skyblue')",
        "plt.title('Average Sales by TV Advertising Level')",
        "plt.ylabel('Average Sales')",
        "plt.xticks(rotation=45)",
        "",
        "plt.subplot(1, 2, 2)",
        "sns.boxplot(data=data, x='TV', y='Sales')",
        "plt.title('Sales Distribution by TV Advertising Level')",
        "plt.xticks(rotation=45)",
        "",
        "plt.tight_layout()",
        "plt.show()",
        "",
        "print(\"Average Sales by TV Level:\")",
        "print(tv_sales)"
      ]
    },
    {
      "cell_type": "code",
      "execution_count": null,
      "metadata": {},
      "outputs": [],
      "source": [
        "# Analyze sales by Influencer marketing level",
        "plt.figure(figsize=(12, 5))",
        "",
        "plt.subplot(1, 2, 1)",
        "influencer_sales = data.groupby('Influencer')['Sales'].mean().sort_values(ascending=False)",
        "influencer_sales.plot(kind='bar', color='lightcoral')",
        "plt.title('Average Sales by Influencer Marketing Level')",
        "plt.ylabel('Average Sales')",
        "plt.xticks(rotation=45)",
        "",
        "plt.subplot(1, 2, 2)",
        "sns.boxplot(data=data, x='Influencer', y='Sales')",
        "plt.title('Sales Distribution by Influencer Marketing Level')",
        "plt.xticks(rotation=45)",
        "",
        "plt.tight_layout()",
        "plt.show()",
        "",
        "print(\"Average Sales by Influencer Level:\")",
        "print(influencer_sales)"
      ]
    },
    {
      "cell_type": "markdown",
      "metadata": {},
      "source": [
        "### Scatter Plots for Continuous Variables",
        "",
        "Let me examine the relationships between continuous marketing spend and sales."
      ]
    },
    {
      "cell_type": "code",
      "execution_count": null,
      "metadata": {},
      "outputs": [],
      "source": [
        "# Create scatter plots for continuous variables",
        "fig, axes = plt.subplots(1, 2, figsize=(15, 6))",
        "",
        "# Radio vs Sales",
        "axes[0].scatter(data['Radio'], data['Sales'], alpha=0.6, color='green')",
        "axes[0].set_xlabel('Radio Advertising Spend')",
        "axes[0].set_ylabel('Sales')",
        "axes[0].set_title('Radio Advertising vs Sales')",
        "axes[0].grid(True, alpha=0.3)",
        "",
        "# Social Media vs Sales",
        "axes[1].scatter(data['Social Media'], data['Sales'], alpha=0.6, color='purple')",
        "axes[1].set_xlabel('Social Media Advertising Spend')",
        "axes[1].set_ylabel('Sales')",
        "axes[1].set_title('Social Media Advertising vs Sales')",
        "axes[1].grid(True, alpha=0.3)",
        "",
        "plt.tight_layout()",
        "plt.show()"
      ]
    },
    {
      "cell_type": "markdown",
      "metadata": {},
      "source": [
        "## 3. Data Preparation for Modeling",
        "",
        "Before building the regression model, I need to prepare the data by encoding categorical variables."
      ]
    },
    {
      "cell_type": "code",
      "execution_count": null,
      "metadata": {},
      "outputs": [],
      "source": [
        "# Create dummy variables for categorical features",
        "# TV advertising levels",
        "tv_dummies = pd.get_dummies(data['TV'], prefix='TV', drop_first=True)",
        "",
        "# Influencer marketing levels  ",
        "influencer_dummies = pd.get_dummies(data['Influencer'], prefix='Influencer', drop_first=True)",
        "",
        "# Combine all features",
        "X = pd.concat([",
        "    data[['Radio', 'Social Media']], ",
        "    tv_dummies, ",
        "    influencer_dummies",
        "], axis=1)",
        "",
        "# Target variable",
        "y = data['Sales']",
        "",
        "print(\"Feature matrix shape:\", X.shape)",
        "print(\"\\nFeature columns:\")",
        "print(X.columns.tolist())",
        "print(\"\\nFirst few rows of feature matrix:\")",
        "X.head()"
      ]
    },
    {
      "cell_type": "markdown",
      "metadata": {},
      "source": [
        "### Checking for Multicollinearity",
        "",
        "I'll calculate the Variance Inflation Factor (VIF) to check for multicollinearity issues."
      ]
    },
    {
      "cell_type": "code",
      "execution_count": null,
      "metadata": {},
      "outputs": [],
      "source": [
        "# Calculate VIF for each feature",
        "def calculate_vif(df):",
        "    vif_data = pd.DataFrame()",
        "    vif_data[\"Feature\"] = df.columns",
        "    vif_data[\"VIF\"] = [variance_inflation_factor(df.values, i) for i in range(df.shape[1])]",
        "    return vif_data.sort_values('VIF', ascending=False)",
        "",
        "# Add constant for VIF calculation",
        "X_with_const = sm.add_constant(X)",
        "vif_results = calculate_vif(X_with_const)",
        "print(\"Variance Inflation Factors:\")",
        "print(vif_results)",
        "",
        "# Check if any VIF values are concerning (typically > 5 or 10)",
        "high_vif = vif_results[vif_results['VIF'] > 5]",
        "if len(high_vif) > 0:",
        "    print(\"\\nFeatures with high VIF (>5):\")",
        "    print(high_vif)",
        "else:",
        "    print(\"\\nNo concerning multicollinearity detected (all VIF < 5)\")"
      ]
    },
    {
      "cell_type": "markdown",
      "metadata": {},
      "source": [
        "## 4. Multiple Linear Regression Model",
        "",
        "Now I'll build and evaluate the multiple linear regression model."
      ]
    },
    {
      "cell_type": "markdown",
      "metadata": {},
      "source": [
        "### Model Training",
        "",
        "I'll split the data and train the regression model."
      ]
    },
    {
      "cell_type": "code",
      "execution_count": null,
      "metadata": {},
      "outputs": [],
      "source": [
        "# Split the data into training and testing sets",
        "X_train, X_test, y_train, y_test = train_test_split(X, y, test_size=0.2, random_state=42)",
        "",
        "print(f\"Training set size: {X_train.shape[0]} samples\")",
        "print(f\"Testing set size: {X_test.shape[0]} samples\")",
        "",
        "# Train the linear regression model",
        "model = LinearRegression()",
        "model.fit(X_train, y_train)",
        "",
        "# Make predictions",
        "y_train_pred = model.predict(X_train)",
        "y_test_pred = model.predict(X_test)",
        "",
        "print(\"\\nModel training completed!\")"
      ]
    },
    {
      "cell_type": "markdown",
      "metadata": {},
      "source": [
        "### Model Evaluation",
        "",
        "Let me evaluate the model performance using various metrics."
      ]
    },
    {
      "cell_type": "code",
      "execution_count": null,
      "metadata": {},
      "outputs": [],
      "source": [
        "# Calculate performance metrics",
        "train_r2 = r2_score(y_train, y_train_pred)",
        "test_r2 = r2_score(y_test, y_test_pred)",
        "train_rmse = np.sqrt(mean_squared_error(y_train, y_train_pred))",
        "test_rmse = np.sqrt(mean_squared_error(y_test, y_test_pred))",
        "",
        "print(\"Model Performance Metrics:\")",
        "print(f\"Training R\u00b2: {train_r2:.4f}\")",
        "print(f\"Testing R\u00b2: {test_r2:.4f}\")",
        "print(f\"Training RMSE: {train_rmse:.4f}\")",
        "print(f\"Testing RMSE: {test_rmse:.4f}\")",
        "",
        "# Check for overfitting",
        "if abs(train_r2 - test_r2) > 0.1:",
        "    print(\"\\nWarning: Potential overfitting detected (large gap between train and test R\u00b2)\")",
        "else:",
        "    print(\"\\nGood: No significant overfitting detected\")"
      ]
    },
    {
      "cell_type": "markdown",
      "metadata": {},
      "source": [
        "### Detailed Statistical Analysis",
        "",
        "I'll use statsmodels to get detailed statistical information about the model."
      ]
    },
    {
      "cell_type": "code",
      "execution_count": null,
      "metadata": {},
      "outputs": [],
      "source": [
        "# Use statsmodels for detailed statistical analysis",
        "X_with_const = sm.add_constant(X)",
        "sm_model = sm.OLS(y, X_with_const).fit()",
        "",
        "# Display comprehensive model summary",
        "print(\"Detailed Model Summary:\")",
        "print(sm_model.summary())"
      ]
    },
    {
      "cell_type": "markdown",
      "metadata": {},
      "source": [
        "### Model Coefficients Interpretation",
        "",
        "Let me analyze and interpret the model coefficients to understand the impact of each marketing channel."
      ]
    },
    {
      "cell_type": "markdown",
      "metadata": {},
      "source": [
        "### Model Coefficients Interpretation",
        "",
        "Let me analyze and interpret the model coefficients to understand the impact of each marketing channel."
      ]
    },
    {
      "cell_type": "code",
      "execution_count": null,
      "metadata": {},
      "outputs": [],
      "source": [
        "# Extract and display model coefficients",
        "coefficients = pd.DataFrame({",
        "    'Feature': X.columns,",
        "    'Coefficient': model.coef_,",
        "    'Abs_Coefficient': np.abs(model.coef_)",
        "}).sort_values('Abs_Coefficient', ascending=False)",
        "",
        "print(\"Model Coefficients (sorted by absolute value):\")",
        "print(coefficients)",
        "",
        "# Visualize coefficients",
        "plt.figure(figsize=(10, 6))",
        "plt.barh(coefficients['Feature'], coefficients['Coefficient'])",
        "plt.xlabel('Coefficient Value')",
        "plt.title('Multiple Linear Regression Coefficients')",
        "plt.grid(axis='x', alpha=0.3)",
        "plt.tight_layout()",
        "plt.show()",
        "",
        "print(f\"\\nIntercept: {model.intercept_:.4f}\")"
      ]
    },
    {
      "cell_type": "markdown",
      "metadata": {},
      "source": [
        "### Residual Analysis",
        "",
        "I'll analyze the residuals to check model assumptions."
      ]
    },
    {
      "cell_type": "code",
      "execution_count": null,
      "metadata": {},
      "outputs": [],
      "source": [
        "# Residual analysis",
        "residuals = y_test - y_test_pred",
        "",
        "# Create residual plots",
        "fig, axes = plt.subplots(2, 2, figsize=(15, 12))",
        "",
        "# Residuals vs Fitted Values",
        "axes[0, 0].scatter(y_test_pred, residuals, alpha=0.6)",
        "axes[0, 0].axhline(y=0, color='red', linestyle='--')",
        "axes[0, 0].set_xlabel('Fitted Values')",
        "axes[0, 0].set_ylabel('Residuals')",
        "axes[0, 0].set_title('Residuals vs Fitted Values')",
        "axes[0, 0].grid(True, alpha=0.3)",
        "",
        "# Q-Q plot for normality check",
        "from scipy import stats",
        "stats.probplot(residuals, dist=\"norm\", plot=axes[0, 1])",
        "axes[0, 1].set_title('Q-Q Plot of Residuals')",
        "axes[0, 1].grid(True, alpha=0.3)",
        "",
        "# Histogram of residuals",
        "axes[1, 0].hist(residuals, bins=20, alpha=0.7, color='skyblue', edgecolor='black')",
        "axes[1, 0].set_xlabel('Residuals')",
        "axes[1, 0].set_ylabel('Frequency')",
        "axes[1, 0].set_title('Distribution of Residuals')",
        "axes[1, 0].grid(True, alpha=0.3)",
        "",
        "# Actual vs Predicted",
        "axes[1, 1].scatter(y_test, y_test_pred, alpha=0.6)",
        "axes[1, 1].plot([y_test.min(), y_test.max()], [y_test.min(), y_test.max()], 'red', linestyle='--')",
        "axes[1, 1].set_xlabel('Actual Sales')",
        "axes[1, 1].set_ylabel('Predicted Sales')",
        "axes[1, 1].set_title('Actual vs Predicted Sales')",
        "axes[1, 1].grid(True, alpha=0.3)",
        "",
        "plt.tight_layout()",
        "plt.show()"
      ]
    },
    {
      "cell_type": "markdown",
      "metadata": {},
      "source": [
        "## 5. Key Findings and Conclusions",
        "",
        "Based on my analysis, here are the key insights:"
      ]
    },
    {
      "cell_type": "markdown",
      "metadata": {},
      "source": [
        "### Marketing Channel Effectiveness",
        "",
        "From the regression analysis, I can draw several important conclusions about marketing channel effectiveness:",
        "",
        "1. **Most Impactful Channels**: The coefficients reveal which marketing channels have the strongest relationship with sales",
        "2. **Statistical Significance**: The p-values indicate which relationships are statistically significant",
        "3. **Practical Significance**: The magnitude of coefficients shows the practical impact of each channel",
        "",
        "### Model Performance",
        "",
        "The model's R-squared value indicates how well the marketing variables explain sales variance, providing insight into:",
        "- The predictive power of the current marketing mix",
        "- Areas where additional factors might be needed",
        "- The overall effectiveness of the marketing strategy",
        "",
        "### Recommendations",
        "",
        "Based on these findings, I would recommend:",
        "- Focusing investment on the most effective channels",
        "- Considering the interaction effects between channels",
        "- Monitoring performance over time to validate these relationships"
      ]
    },
    {
      "cell_type": "markdown",
      "metadata": {},
      "source": [
        "## 6. Future Improvements",
        "",
        "To enhance this analysis, I could consider:",
        "",
        "1. **Feature Engineering**: Creating interaction terms between marketing channels",
        "2. **Non-linear Relationships**: Exploring polynomial or other non-linear transformations",
        "3. **Time Series Analysis**: If temporal data is available, analyzing trends over time",
        "4. **Advanced Modeling**: Trying ensemble methods or regularized regression techniques",
        "5. **External Factors**: Including economic indicators, seasonality, or competitive data",
        "",
        "This analysis provides a solid foundation for understanding marketing effectiveness and can guide strategic decision-making for future marketing investments."
      ]
    }
  ],
  "metadata": {
    "kernelspec": {
      "display_name": "Python 3",
      "language": "python",
      "name": "python3"
    },
    "language_info": {
      "codemirror_mode": {
        "name": "ipython",
        "version": 3
      },
      "file_extension": ".py",
      "mimetype": "text/x-python",
      "name": "python",
      "nbconvert_exporter": "python",
      "pygments_lexer": "ipython3",
      "version": "3.8.0"
    }
  },
  "nbformat": 4,
  "nbformat_minor": 4
}