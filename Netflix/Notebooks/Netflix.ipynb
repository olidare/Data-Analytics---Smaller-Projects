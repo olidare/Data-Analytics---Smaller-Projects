{
 "cells": [
  {
   "cell_type": "markdown",
   "id": "02dcd0f8-42a0-465d-a4d4-99b1cda9d1e9",
   "metadata": {},
   "source": [
    "# Netflix Investigation"
   ]
  },
  {
   "cell_type": "code",
   "execution_count": null,
   "id": "2dc9362d-ca7f-411e-95c3-509428b39e7f",
   "metadata": {},
   "outputs": [],
   "source": [
    "!pip install pymysql"
   ]
  },
  {
   "cell_type": "code",
   "execution_count": 2,
   "id": "5f4f33e7-3672-4472-a352-c2e8ce15acd5",
   "metadata": {},
   "outputs": [],
   "source": [
    "import sqlalchemy as sal\n",
    "import pandas as pd\n",
    "from dotenv import load_dotenv\n",
    "import os"
   ]
  },
  {
   "cell_type": "code",
   "execution_count": 4,
   "id": "62995124-b278-418b-a4a2-b5474e340e5a",
   "metadata": {},
   "outputs": [],
   "source": [
    "load_dotenv(dotenv_path='../Keys/keys.env')\n",
    "\n",
    "# Construct connection string based on database type\n",
    "db_type = os.getenv('DB_TYPE').lower()\n",
    "\n",
    "conn_string = (\n",
    "    f\"mysql+pymysql://{os.getenv('DB_USER')}:{os.getenv('DB_PASS')}\"\n",
    "    f\"@{os.getenv('DB_HOST')}:{os.getenv('DB_PORT')}\"\n",
    "    f\"/{os.getenv('DB_NAME')}\"\n",
    ")\n",
    "\n",
    "# Create database engine\n",
    "engine = sal.create_engine(conn_string)\n",
    "conn = engine.connect()\n"
   ]
  },
  {
   "cell_type": "code",
   "execution_count": 6,
   "id": "38d33d6d-1561-473a-8c9d-c58a8b58140b",
   "metadata": {},
   "outputs": [
    {
     "name": "stdout",
     "output_type": "stream",
     "text": [
      "✅ Schema from ../SQL/create_netflix_titles.sql executed successfully!\n"
     ]
    }
   ],
   "source": [
    "# --- Call the create Schema file  ---\n",
    "schema_file_path = '../SQL/create_netflix_titles.sql' \n",
    "\n",
    "try:\n",
    "    with open(schema_file_path, 'r') as f:\n",
    "        sql_commands = f.read()\n",
    "\n",
    "    statements = [s.strip() for s in sql_commands.split(';') if s.strip()]\n",
    "\n",
    "    with engine.connect() as connection:\n",
    "        for statement in statements:\n",
    "            if statement: # Ensure statement is not empty after stripping\n",
    "                connection.execute(sal.text(statement)) # Use text() for literal SQL\n",
    "        connection.commit() # Commit the DDL changes\n",
    "\n",
    "    print(f\"✅ Schema from {schema_file_path} executed successfully!\")\n",
    "\n",
    "except FileNotFoundError:\n",
    "    print(f\"❌ Error: Schema file not found at {schema_file_path}\")\n",
    "except Exception as e:\n",
    "    print(f\"❌ Error executing schema from {schema_file_path}:\")\n",
    "    print(e)\n"
   ]
  },
  {
   "cell_type": "code",
   "execution_count": 8,
   "id": "3c8788c1-50d3-4bcd-90f4-5fcd133567b2",
   "metadata": {},
   "outputs": [],
   "source": [
    "df = pd.read_csv('../netflix_titles.csv')"
   ]
  },
  {
   "cell_type": "code",
   "execution_count": 10,
   "id": "78423070-9aa3-4d24-a480-f730e8eb540a",
   "metadata": {},
   "outputs": [
    {
     "name": "stdout",
     "output_type": "stream",
     "text": [
      "✅ Data written to database successfully!\n"
     ]
    }
   ],
   "source": [
    "# --- Push the Dataframe to the Schema  ---\n",
    "try:\n",
    "    df.to_sql(\n",
    "        name='netflix_titles',  # table name in your database\n",
    "        con=engine,              # SQLAlchemy engine\n",
    "        if_exists='append',     # 'replace' to drop & recreate table, 'append' to add to it\n",
    "        index=False              # don't write pandas DataFrame index as a column\n",
    "    )\n",
    "    print(\"✅ Data written to database successfully!\")\n",
    "\n",
    "except Exception as e:\n",
    "    print(\"❌ Error writing DataFrame to database:\")\n",
    "    print(e)\n"
   ]
  },
  {
   "cell_type": "markdown",
   "id": "2eb36c9f-357a-4cf2-a2e7-06ca5d8638d1",
   "metadata": {},
   "source": [
    "#### This recreates the table to have the correct sized columns and to handle foreign characters.\n",
    "\n"
   ]
  },
  {
   "cell_type": "code",
   "execution_count": null,
   "id": "fb971e35-0a18-44d6-8027-6a12207c0575",
   "metadata": {},
   "outputs": [],
   "source": []
  },
  {
   "cell_type": "code",
   "execution_count": null,
   "id": "0dd62c9d-5aea-4e19-a289-a56e98b163b0",
   "metadata": {},
   "outputs": [],
   "source": []
  },
  {
   "cell_type": "code",
   "execution_count": null,
   "id": "a2dbd022-2969-4eac-ba62-51568ae0558f",
   "metadata": {},
   "outputs": [],
   "source": []
  }
 ],
 "metadata": {
  "kernelspec": {
   "display_name": "Python 3 (ipykernel)",
   "language": "python",
   "name": "python3"
  },
  "language_info": {
   "codemirror_mode": {
    "name": "ipython",
    "version": 3
   },
   "file_extension": ".py",
   "mimetype": "text/x-python",
   "name": "python",
   "nbconvert_exporter": "python",
   "pygments_lexer": "ipython3",
   "version": "3.12.4"
  }
 },
 "nbformat": 4,
 "nbformat_minor": 5
}
